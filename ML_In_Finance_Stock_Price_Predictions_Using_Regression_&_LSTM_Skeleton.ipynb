{
  "nbformat": 4,
  "nbformat_minor": 0,
  "metadata": {
    "colab": {
      "name": "ML In Finance - Stock Price Predictions Using Regression & LSTM - Skeleton.ipynb",
      "provenance": [],
      "collapsed_sections": [],
      "include_colab_link": true
    },
    "kernelspec": {
      "name": "python3",
      "display_name": "Python 3"
    }
  },
  "cells": [
    {
      "cell_type": "markdown",
      "metadata": {
        "id": "view-in-github",
        "colab_type": "text"
      },
      "source": [
        "<a href=\"https://colab.research.google.com/github/sehrish30/Stock-analysis/blob/main/ML_In_Finance_Stock_Price_Predictions_Using_Regression_%26_LSTM_Skeleton.ipynb\" target=\"_parent\"><img src=\"https://colab.research.google.com/assets/colab-badge.svg\" alt=\"Open In Colab\"/></a>"
      ]
    },
    {
      "cell_type": "markdown",
      "metadata": {
        "id": "vqgA_yPbGFnM"
      },
      "source": [
        "#TASK #1: UNDERSTAND THE PROBLEM STATEMENT & BUSINESS CASE"
      ]
    },
    {
      "cell_type": "code",
      "metadata": {
        "colab": {
          "base_uri": "https://localhost:8080/"
        },
        "id": "WoElIFS611jm",
        "outputId": "9a5c2086-2858-4bed-d91c-b18c109028fc"
      },
      "source": [
        "from google.colab import drive\n",
        "drive.mount('/content/drive')"
      ],
      "execution_count": null,
      "outputs": [
        {
          "output_type": "stream",
          "text": [
            "Mounted at /content/drive\n"
          ],
          "name": "stdout"
        }
      ]
    },
    {
      "cell_type": "markdown",
      "metadata": {
        "id": "7o5Rh_XophbT"
      },
      "source": [
        "![alt text](https://drive.google.com/uc?id=1U3eRNUYyza1A7EFopacJyujR87Vm_ae8)\n"
      ]
    },
    {
      "cell_type": "markdown",
      "metadata": {
        "id": "ttbJv3I1rpn3"
      },
      "source": [
        "![alt text](https://drive.google.com/uc?id=139zlnLGzYen-GbcnkXQZs44tf7OqV8e4)"
      ]
    },
    {
      "cell_type": "markdown",
      "metadata": {
        "id": "3n66xj4BGKWM"
      },
      "source": [
        "#TASK #2: IMPORT DATASETS AND LIBRARIES\n"
      ]
    },
    {
      "cell_type": "code",
      "metadata": {
        "id": "9sPZpiBGYcYB"
      },
      "source": [
        "# Mount Google Drive\n",
        "from google.colab import drive\n",
        "drive.mount('/content/drive')"
      ],
      "execution_count": null,
      "outputs": []
    },
    {
      "cell_type": "code",
      "metadata": {
        "id": "KVxYSMIUxx_U"
      },
      "source": [
        "import pandas as pd\n",
        "import plotly.express as px\n",
        "from copy import copy\n",
        "from scipy import stats\n",
        "import matplotlib.pyplot as plt\n",
        "import numpy as np\n",
        "import plotly.figure_factory as ff\n",
        "from sklearn.linear_model import LinearRegression\n",
        "from sklearn.model_selection import train_test_split\n",
        "from tensorflow import keras\n"
      ],
      "execution_count": null,
      "outputs": []
    },
    {
      "cell_type": "code",
      "metadata": {
        "id": "HbxX37RAYEXS",
        "colab": {
          "base_uri": "https://localhost:8080/",
          "height": 399
        },
        "outputId": "5be12c63-04cc-4e5f-9de9-c2fa9f419e09"
      },
      "source": [
        "# Read stock prices data\n",
        "stock_price_df = pd.read_csv('/content/drive/MyDrive/stock.csv')\n",
        "stock_price_df"
      ],
      "execution_count": null,
      "outputs": [
        {
          "output_type": "execute_result",
          "data": {
            "text/html": [
              "<div>\n",
              "<style scoped>\n",
              "    .dataframe tbody tr th:only-of-type {\n",
              "        vertical-align: middle;\n",
              "    }\n",
              "\n",
              "    .dataframe tbody tr th {\n",
              "        vertical-align: top;\n",
              "    }\n",
              "\n",
              "    .dataframe thead th {\n",
              "        text-align: right;\n",
              "    }\n",
              "</style>\n",
              "<table border=\"1\" class=\"dataframe\">\n",
              "  <thead>\n",
              "    <tr style=\"text-align: right;\">\n",
              "      <th></th>\n",
              "      <th>Date</th>\n",
              "      <th>AAPL</th>\n",
              "      <th>BA</th>\n",
              "      <th>T</th>\n",
              "      <th>MGM</th>\n",
              "      <th>AMZN</th>\n",
              "      <th>IBM</th>\n",
              "      <th>TSLA</th>\n",
              "      <th>GOOG</th>\n",
              "      <th>sp500</th>\n",
              "    </tr>\n",
              "  </thead>\n",
              "  <tbody>\n",
              "    <tr>\n",
              "      <th>0</th>\n",
              "      <td>2012-01-12</td>\n",
              "      <td>60.198570</td>\n",
              "      <td>75.510002</td>\n",
              "      <td>30.120001</td>\n",
              "      <td>12.130000</td>\n",
              "      <td>175.929993</td>\n",
              "      <td>180.550003</td>\n",
              "      <td>28.250000</td>\n",
              "      <td>313.644379</td>\n",
              "      <td>1295.500000</td>\n",
              "    </tr>\n",
              "    <tr>\n",
              "      <th>1</th>\n",
              "      <td>2012-01-13</td>\n",
              "      <td>59.972858</td>\n",
              "      <td>74.599998</td>\n",
              "      <td>30.070000</td>\n",
              "      <td>12.350000</td>\n",
              "      <td>178.419998</td>\n",
              "      <td>179.160004</td>\n",
              "      <td>22.790001</td>\n",
              "      <td>311.328064</td>\n",
              "      <td>1289.089966</td>\n",
              "    </tr>\n",
              "    <tr>\n",
              "      <th>2</th>\n",
              "      <td>2012-01-17</td>\n",
              "      <td>60.671429</td>\n",
              "      <td>75.239998</td>\n",
              "      <td>30.250000</td>\n",
              "      <td>12.250000</td>\n",
              "      <td>181.660004</td>\n",
              "      <td>180.000000</td>\n",
              "      <td>26.600000</td>\n",
              "      <td>313.116364</td>\n",
              "      <td>1293.670044</td>\n",
              "    </tr>\n",
              "    <tr>\n",
              "      <th>3</th>\n",
              "      <td>2012-01-18</td>\n",
              "      <td>61.301430</td>\n",
              "      <td>75.059998</td>\n",
              "      <td>30.330000</td>\n",
              "      <td>12.730000</td>\n",
              "      <td>189.440002</td>\n",
              "      <td>181.070007</td>\n",
              "      <td>26.809999</td>\n",
              "      <td>315.273285</td>\n",
              "      <td>1308.040039</td>\n",
              "    </tr>\n",
              "    <tr>\n",
              "      <th>4</th>\n",
              "      <td>2012-01-19</td>\n",
              "      <td>61.107143</td>\n",
              "      <td>75.559998</td>\n",
              "      <td>30.420000</td>\n",
              "      <td>12.800000</td>\n",
              "      <td>194.449997</td>\n",
              "      <td>180.520004</td>\n",
              "      <td>26.760000</td>\n",
              "      <td>318.590851</td>\n",
              "      <td>1314.500000</td>\n",
              "    </tr>\n",
              "    <tr>\n",
              "      <th>...</th>\n",
              "      <td>...</td>\n",
              "      <td>...</td>\n",
              "      <td>...</td>\n",
              "      <td>...</td>\n",
              "      <td>...</td>\n",
              "      <td>...</td>\n",
              "      <td>...</td>\n",
              "      <td>...</td>\n",
              "      <td>...</td>\n",
              "      <td>...</td>\n",
              "    </tr>\n",
              "    <tr>\n",
              "      <th>2154</th>\n",
              "      <td>2020-08-05</td>\n",
              "      <td>440.250000</td>\n",
              "      <td>174.279999</td>\n",
              "      <td>29.850000</td>\n",
              "      <td>16.719999</td>\n",
              "      <td>3205.030029</td>\n",
              "      <td>125.449997</td>\n",
              "      <td>1485.020020</td>\n",
              "      <td>1473.609985</td>\n",
              "      <td>3327.770020</td>\n",
              "    </tr>\n",
              "    <tr>\n",
              "      <th>2155</th>\n",
              "      <td>2020-08-06</td>\n",
              "      <td>455.609985</td>\n",
              "      <td>172.199997</td>\n",
              "      <td>29.840000</td>\n",
              "      <td>18.459999</td>\n",
              "      <td>3225.000000</td>\n",
              "      <td>126.120003</td>\n",
              "      <td>1489.579956</td>\n",
              "      <td>1500.099976</td>\n",
              "      <td>3349.159912</td>\n",
              "    </tr>\n",
              "    <tr>\n",
              "      <th>2156</th>\n",
              "      <td>2020-08-07</td>\n",
              "      <td>444.450012</td>\n",
              "      <td>170.020004</td>\n",
              "      <td>30.020000</td>\n",
              "      <td>19.030001</td>\n",
              "      <td>3167.459961</td>\n",
              "      <td>124.959999</td>\n",
              "      <td>1452.709961</td>\n",
              "      <td>1494.489990</td>\n",
              "      <td>3351.280029</td>\n",
              "    </tr>\n",
              "    <tr>\n",
              "      <th>2157</th>\n",
              "      <td>2020-08-10</td>\n",
              "      <td>450.910004</td>\n",
              "      <td>179.410004</td>\n",
              "      <td>30.200001</td>\n",
              "      <td>21.650000</td>\n",
              "      <td>3148.159912</td>\n",
              "      <td>127.110001</td>\n",
              "      <td>1418.569946</td>\n",
              "      <td>1496.099976</td>\n",
              "      <td>3360.469971</td>\n",
              "    </tr>\n",
              "    <tr>\n",
              "      <th>2158</th>\n",
              "      <td>2020-08-11</td>\n",
              "      <td>437.500000</td>\n",
              "      <td>180.130005</td>\n",
              "      <td>30.200001</td>\n",
              "      <td>21.500000</td>\n",
              "      <td>3080.669922</td>\n",
              "      <td>126.750000</td>\n",
              "      <td>1374.390015</td>\n",
              "      <td>1480.319946</td>\n",
              "      <td>3333.689941</td>\n",
              "    </tr>\n",
              "  </tbody>\n",
              "</table>\n",
              "<p>2159 rows × 10 columns</p>\n",
              "</div>"
            ],
            "text/plain": [
              "            Date        AAPL          BA  ...         TSLA         GOOG        sp500\n",
              "0     2012-01-12   60.198570   75.510002  ...    28.250000   313.644379  1295.500000\n",
              "1     2012-01-13   59.972858   74.599998  ...    22.790001   311.328064  1289.089966\n",
              "2     2012-01-17   60.671429   75.239998  ...    26.600000   313.116364  1293.670044\n",
              "3     2012-01-18   61.301430   75.059998  ...    26.809999   315.273285  1308.040039\n",
              "4     2012-01-19   61.107143   75.559998  ...    26.760000   318.590851  1314.500000\n",
              "...          ...         ...         ...  ...          ...          ...          ...\n",
              "2154  2020-08-05  440.250000  174.279999  ...  1485.020020  1473.609985  3327.770020\n",
              "2155  2020-08-06  455.609985  172.199997  ...  1489.579956  1500.099976  3349.159912\n",
              "2156  2020-08-07  444.450012  170.020004  ...  1452.709961  1494.489990  3351.280029\n",
              "2157  2020-08-10  450.910004  179.410004  ...  1418.569946  1496.099976  3360.469971\n",
              "2158  2020-08-11  437.500000  180.130005  ...  1374.390015  1480.319946  3333.689941\n",
              "\n",
              "[2159 rows x 10 columns]"
            ]
          },
          "metadata": {
            "tags": []
          },
          "execution_count": 7
        }
      ]
    },
    {
      "cell_type": "code",
      "metadata": {
        "id": "WbBDdWcm9dLH",
        "colab": {
          "base_uri": "https://localhost:8080/",
          "height": 399
        },
        "outputId": "593e5616-dddd-4d61-af67-79f417cf55a1"
      },
      "source": [
        "# Read the stocks volume data\n",
        "stock_vol_df = pd.read_csv('/content/drive/MyDrive/stock_volume.csv')\n",
        "stock_vol_df"
      ],
      "execution_count": null,
      "outputs": [
        {
          "output_type": "execute_result",
          "data": {
            "text/html": [
              "<div>\n",
              "<style scoped>\n",
              "    .dataframe tbody tr th:only-of-type {\n",
              "        vertical-align: middle;\n",
              "    }\n",
              "\n",
              "    .dataframe tbody tr th {\n",
              "        vertical-align: top;\n",
              "    }\n",
              "\n",
              "    .dataframe thead th {\n",
              "        text-align: right;\n",
              "    }\n",
              "</style>\n",
              "<table border=\"1\" class=\"dataframe\">\n",
              "  <thead>\n",
              "    <tr style=\"text-align: right;\">\n",
              "      <th></th>\n",
              "      <th>Date</th>\n",
              "      <th>AAPL</th>\n",
              "      <th>BA</th>\n",
              "      <th>T</th>\n",
              "      <th>MGM</th>\n",
              "      <th>AMZN</th>\n",
              "      <th>IBM</th>\n",
              "      <th>TSLA</th>\n",
              "      <th>GOOG</th>\n",
              "      <th>sp500</th>\n",
              "    </tr>\n",
              "  </thead>\n",
              "  <tbody>\n",
              "    <tr>\n",
              "      <th>0</th>\n",
              "      <td>2012-01-12</td>\n",
              "      <td>53146800</td>\n",
              "      <td>3934500</td>\n",
              "      <td>26511100</td>\n",
              "      <td>17891100</td>\n",
              "      <td>5385800</td>\n",
              "      <td>6881000</td>\n",
              "      <td>729300</td>\n",
              "      <td>3764400</td>\n",
              "      <td>4019890000</td>\n",
              "    </tr>\n",
              "    <tr>\n",
              "      <th>1</th>\n",
              "      <td>2012-01-13</td>\n",
              "      <td>56505400</td>\n",
              "      <td>4641100</td>\n",
              "      <td>22096800</td>\n",
              "      <td>16621800</td>\n",
              "      <td>4753500</td>\n",
              "      <td>5279200</td>\n",
              "      <td>5500400</td>\n",
              "      <td>4631800</td>\n",
              "      <td>3692370000</td>\n",
              "    </tr>\n",
              "    <tr>\n",
              "      <th>2</th>\n",
              "      <td>2012-01-17</td>\n",
              "      <td>60724300</td>\n",
              "      <td>3700100</td>\n",
              "      <td>23500200</td>\n",
              "      <td>15480800</td>\n",
              "      <td>5644500</td>\n",
              "      <td>6003400</td>\n",
              "      <td>4651600</td>\n",
              "      <td>3832800</td>\n",
              "      <td>4010490000</td>\n",
              "    </tr>\n",
              "    <tr>\n",
              "      <th>3</th>\n",
              "      <td>2012-01-18</td>\n",
              "      <td>69197800</td>\n",
              "      <td>4189500</td>\n",
              "      <td>22015000</td>\n",
              "      <td>18387600</td>\n",
              "      <td>7473500</td>\n",
              "      <td>4600600</td>\n",
              "      <td>1260200</td>\n",
              "      <td>5544000</td>\n",
              "      <td>4096160000</td>\n",
              "    </tr>\n",
              "    <tr>\n",
              "      <th>4</th>\n",
              "      <td>2012-01-19</td>\n",
              "      <td>65434600</td>\n",
              "      <td>5397300</td>\n",
              "      <td>25524000</td>\n",
              "      <td>14022900</td>\n",
              "      <td>7096000</td>\n",
              "      <td>8567200</td>\n",
              "      <td>1246300</td>\n",
              "      <td>12657800</td>\n",
              "      <td>4465890000</td>\n",
              "    </tr>\n",
              "    <tr>\n",
              "      <th>...</th>\n",
              "      <td>...</td>\n",
              "      <td>...</td>\n",
              "      <td>...</td>\n",
              "      <td>...</td>\n",
              "      <td>...</td>\n",
              "      <td>...</td>\n",
              "      <td>...</td>\n",
              "      <td>...</td>\n",
              "      <td>...</td>\n",
              "      <td>...</td>\n",
              "    </tr>\n",
              "    <tr>\n",
              "      <th>2154</th>\n",
              "      <td>2020-08-05</td>\n",
              "      <td>30498000</td>\n",
              "      <td>46551000</td>\n",
              "      <td>22991700</td>\n",
              "      <td>18914200</td>\n",
              "      <td>3930000</td>\n",
              "      <td>3675400</td>\n",
              "      <td>4978000</td>\n",
              "      <td>1979500</td>\n",
              "      <td>4732220000</td>\n",
              "    </tr>\n",
              "    <tr>\n",
              "      <th>2155</th>\n",
              "      <td>2020-08-06</td>\n",
              "      <td>50607200</td>\n",
              "      <td>32921600</td>\n",
              "      <td>21908700</td>\n",
              "      <td>35867700</td>\n",
              "      <td>3940600</td>\n",
              "      <td>3417100</td>\n",
              "      <td>5992300</td>\n",
              "      <td>1995400</td>\n",
              "      <td>4267490000</td>\n",
              "    </tr>\n",
              "    <tr>\n",
              "      <th>2156</th>\n",
              "      <td>2020-08-07</td>\n",
              "      <td>49453300</td>\n",
              "      <td>19301600</td>\n",
              "      <td>30398500</td>\n",
              "      <td>34530300</td>\n",
              "      <td>3929600</td>\n",
              "      <td>3651000</td>\n",
              "      <td>8883500</td>\n",
              "      <td>1576600</td>\n",
              "      <td>4104860000</td>\n",
              "    </tr>\n",
              "    <tr>\n",
              "      <th>2157</th>\n",
              "      <td>2020-08-10</td>\n",
              "      <td>53100900</td>\n",
              "      <td>35857700</td>\n",
              "      <td>35514400</td>\n",
              "      <td>71219700</td>\n",
              "      <td>3167300</td>\n",
              "      <td>3968300</td>\n",
              "      <td>7522300</td>\n",
              "      <td>1289300</td>\n",
              "      <td>4318570000</td>\n",
              "    </tr>\n",
              "    <tr>\n",
              "      <th>2158</th>\n",
              "      <td>2020-08-11</td>\n",
              "      <td>46871100</td>\n",
              "      <td>60966900</td>\n",
              "      <td>30978300</td>\n",
              "      <td>34357900</td>\n",
              "      <td>3706600</td>\n",
              "      <td>4998500</td>\n",
              "      <td>8356000</td>\n",
              "      <td>1452000</td>\n",
              "      <td>5087650000</td>\n",
              "    </tr>\n",
              "  </tbody>\n",
              "</table>\n",
              "<p>2159 rows × 10 columns</p>\n",
              "</div>"
            ],
            "text/plain": [
              "            Date      AAPL        BA  ...     TSLA      GOOG       sp500\n",
              "0     2012-01-12  53146800   3934500  ...   729300   3764400  4019890000\n",
              "1     2012-01-13  56505400   4641100  ...  5500400   4631800  3692370000\n",
              "2     2012-01-17  60724300   3700100  ...  4651600   3832800  4010490000\n",
              "3     2012-01-18  69197800   4189500  ...  1260200   5544000  4096160000\n",
              "4     2012-01-19  65434600   5397300  ...  1246300  12657800  4465890000\n",
              "...          ...       ...       ...  ...      ...       ...         ...\n",
              "2154  2020-08-05  30498000  46551000  ...  4978000   1979500  4732220000\n",
              "2155  2020-08-06  50607200  32921600  ...  5992300   1995400  4267490000\n",
              "2156  2020-08-07  49453300  19301600  ...  8883500   1576600  4104860000\n",
              "2157  2020-08-10  53100900  35857700  ...  7522300   1289300  4318570000\n",
              "2158  2020-08-11  46871100  60966900  ...  8356000   1452000  5087650000\n",
              "\n",
              "[2159 rows x 10 columns]"
            ]
          },
          "metadata": {
            "tags": []
          },
          "execution_count": 8
        }
      ]
    },
    {
      "cell_type": "markdown",
      "metadata": {
        "id": "LhOBKCgD7K1z"
      },
      "source": [
        ""
      ]
    },
    {
      "cell_type": "code",
      "metadata": {
        "id": "et-6_Df_Gcod",
        "colab": {
          "base_uri": "https://localhost:8080/",
          "height": 399
        },
        "outputId": "0c853167-ff87-42d1-87a0-26cf18a72f93"
      },
      "source": [
        "# Sort the data based on Date\n",
        "stock_price_df = stock_price_df.sort_values(by = ['Date'])\n",
        "stock_price_df"
      ],
      "execution_count": null,
      "outputs": [
        {
          "output_type": "execute_result",
          "data": {
            "text/html": [
              "<div>\n",
              "<style scoped>\n",
              "    .dataframe tbody tr th:only-of-type {\n",
              "        vertical-align: middle;\n",
              "    }\n",
              "\n",
              "    .dataframe tbody tr th {\n",
              "        vertical-align: top;\n",
              "    }\n",
              "\n",
              "    .dataframe thead th {\n",
              "        text-align: right;\n",
              "    }\n",
              "</style>\n",
              "<table border=\"1\" class=\"dataframe\">\n",
              "  <thead>\n",
              "    <tr style=\"text-align: right;\">\n",
              "      <th></th>\n",
              "      <th>Date</th>\n",
              "      <th>AAPL</th>\n",
              "      <th>BA</th>\n",
              "      <th>T</th>\n",
              "      <th>MGM</th>\n",
              "      <th>AMZN</th>\n",
              "      <th>IBM</th>\n",
              "      <th>TSLA</th>\n",
              "      <th>GOOG</th>\n",
              "      <th>sp500</th>\n",
              "    </tr>\n",
              "  </thead>\n",
              "  <tbody>\n",
              "    <tr>\n",
              "      <th>0</th>\n",
              "      <td>2012-01-12</td>\n",
              "      <td>60.198570</td>\n",
              "      <td>75.510002</td>\n",
              "      <td>30.120001</td>\n",
              "      <td>12.130000</td>\n",
              "      <td>175.929993</td>\n",
              "      <td>180.550003</td>\n",
              "      <td>28.250000</td>\n",
              "      <td>313.644379</td>\n",
              "      <td>1295.500000</td>\n",
              "    </tr>\n",
              "    <tr>\n",
              "      <th>1</th>\n",
              "      <td>2012-01-13</td>\n",
              "      <td>59.972858</td>\n",
              "      <td>74.599998</td>\n",
              "      <td>30.070000</td>\n",
              "      <td>12.350000</td>\n",
              "      <td>178.419998</td>\n",
              "      <td>179.160004</td>\n",
              "      <td>22.790001</td>\n",
              "      <td>311.328064</td>\n",
              "      <td>1289.089966</td>\n",
              "    </tr>\n",
              "    <tr>\n",
              "      <th>2</th>\n",
              "      <td>2012-01-17</td>\n",
              "      <td>60.671429</td>\n",
              "      <td>75.239998</td>\n",
              "      <td>30.250000</td>\n",
              "      <td>12.250000</td>\n",
              "      <td>181.660004</td>\n",
              "      <td>180.000000</td>\n",
              "      <td>26.600000</td>\n",
              "      <td>313.116364</td>\n",
              "      <td>1293.670044</td>\n",
              "    </tr>\n",
              "    <tr>\n",
              "      <th>3</th>\n",
              "      <td>2012-01-18</td>\n",
              "      <td>61.301430</td>\n",
              "      <td>75.059998</td>\n",
              "      <td>30.330000</td>\n",
              "      <td>12.730000</td>\n",
              "      <td>189.440002</td>\n",
              "      <td>181.070007</td>\n",
              "      <td>26.809999</td>\n",
              "      <td>315.273285</td>\n",
              "      <td>1308.040039</td>\n",
              "    </tr>\n",
              "    <tr>\n",
              "      <th>4</th>\n",
              "      <td>2012-01-19</td>\n",
              "      <td>61.107143</td>\n",
              "      <td>75.559998</td>\n",
              "      <td>30.420000</td>\n",
              "      <td>12.800000</td>\n",
              "      <td>194.449997</td>\n",
              "      <td>180.520004</td>\n",
              "      <td>26.760000</td>\n",
              "      <td>318.590851</td>\n",
              "      <td>1314.500000</td>\n",
              "    </tr>\n",
              "    <tr>\n",
              "      <th>...</th>\n",
              "      <td>...</td>\n",
              "      <td>...</td>\n",
              "      <td>...</td>\n",
              "      <td>...</td>\n",
              "      <td>...</td>\n",
              "      <td>...</td>\n",
              "      <td>...</td>\n",
              "      <td>...</td>\n",
              "      <td>...</td>\n",
              "      <td>...</td>\n",
              "    </tr>\n",
              "    <tr>\n",
              "      <th>2154</th>\n",
              "      <td>2020-08-05</td>\n",
              "      <td>440.250000</td>\n",
              "      <td>174.279999</td>\n",
              "      <td>29.850000</td>\n",
              "      <td>16.719999</td>\n",
              "      <td>3205.030029</td>\n",
              "      <td>125.449997</td>\n",
              "      <td>1485.020020</td>\n",
              "      <td>1473.609985</td>\n",
              "      <td>3327.770020</td>\n",
              "    </tr>\n",
              "    <tr>\n",
              "      <th>2155</th>\n",
              "      <td>2020-08-06</td>\n",
              "      <td>455.609985</td>\n",
              "      <td>172.199997</td>\n",
              "      <td>29.840000</td>\n",
              "      <td>18.459999</td>\n",
              "      <td>3225.000000</td>\n",
              "      <td>126.120003</td>\n",
              "      <td>1489.579956</td>\n",
              "      <td>1500.099976</td>\n",
              "      <td>3349.159912</td>\n",
              "    </tr>\n",
              "    <tr>\n",
              "      <th>2156</th>\n",
              "      <td>2020-08-07</td>\n",
              "      <td>444.450012</td>\n",
              "      <td>170.020004</td>\n",
              "      <td>30.020000</td>\n",
              "      <td>19.030001</td>\n",
              "      <td>3167.459961</td>\n",
              "      <td>124.959999</td>\n",
              "      <td>1452.709961</td>\n",
              "      <td>1494.489990</td>\n",
              "      <td>3351.280029</td>\n",
              "    </tr>\n",
              "    <tr>\n",
              "      <th>2157</th>\n",
              "      <td>2020-08-10</td>\n",
              "      <td>450.910004</td>\n",
              "      <td>179.410004</td>\n",
              "      <td>30.200001</td>\n",
              "      <td>21.650000</td>\n",
              "      <td>3148.159912</td>\n",
              "      <td>127.110001</td>\n",
              "      <td>1418.569946</td>\n",
              "      <td>1496.099976</td>\n",
              "      <td>3360.469971</td>\n",
              "    </tr>\n",
              "    <tr>\n",
              "      <th>2158</th>\n",
              "      <td>2020-08-11</td>\n",
              "      <td>437.500000</td>\n",
              "      <td>180.130005</td>\n",
              "      <td>30.200001</td>\n",
              "      <td>21.500000</td>\n",
              "      <td>3080.669922</td>\n",
              "      <td>126.750000</td>\n",
              "      <td>1374.390015</td>\n",
              "      <td>1480.319946</td>\n",
              "      <td>3333.689941</td>\n",
              "    </tr>\n",
              "  </tbody>\n",
              "</table>\n",
              "<p>2159 rows × 10 columns</p>\n",
              "</div>"
            ],
            "text/plain": [
              "            Date        AAPL          BA  ...         TSLA         GOOG        sp500\n",
              "0     2012-01-12   60.198570   75.510002  ...    28.250000   313.644379  1295.500000\n",
              "1     2012-01-13   59.972858   74.599998  ...    22.790001   311.328064  1289.089966\n",
              "2     2012-01-17   60.671429   75.239998  ...    26.600000   313.116364  1293.670044\n",
              "3     2012-01-18   61.301430   75.059998  ...    26.809999   315.273285  1308.040039\n",
              "4     2012-01-19   61.107143   75.559998  ...    26.760000   318.590851  1314.500000\n",
              "...          ...         ...         ...  ...          ...          ...          ...\n",
              "2154  2020-08-05  440.250000  174.279999  ...  1485.020020  1473.609985  3327.770020\n",
              "2155  2020-08-06  455.609985  172.199997  ...  1489.579956  1500.099976  3349.159912\n",
              "2156  2020-08-07  444.450012  170.020004  ...  1452.709961  1494.489990  3351.280029\n",
              "2157  2020-08-10  450.910004  179.410004  ...  1418.569946  1496.099976  3360.469971\n",
              "2158  2020-08-11  437.500000  180.130005  ...  1374.390015  1480.319946  3333.689941\n",
              "\n",
              "[2159 rows x 10 columns]"
            ]
          },
          "metadata": {
            "tags": []
          },
          "execution_count": 10
        }
      ]
    },
    {
      "cell_type": "code",
      "metadata": {
        "id": "ROFg8mJP9s0W",
        "colab": {
          "base_uri": "https://localhost:8080/",
          "height": 399
        },
        "outputId": "ef0d655a-cac0-4396-f7e6-d9d36e3572cf"
      },
      "source": [
        "# Sort the volume data based on Date\n",
        "stock_vol_df = stock_vol_df.sort_values(by = ['Date'])\n",
        "stock_vol_df"
      ],
      "execution_count": null,
      "outputs": [
        {
          "output_type": "execute_result",
          "data": {
            "text/html": [
              "<div>\n",
              "<style scoped>\n",
              "    .dataframe tbody tr th:only-of-type {\n",
              "        vertical-align: middle;\n",
              "    }\n",
              "\n",
              "    .dataframe tbody tr th {\n",
              "        vertical-align: top;\n",
              "    }\n",
              "\n",
              "    .dataframe thead th {\n",
              "        text-align: right;\n",
              "    }\n",
              "</style>\n",
              "<table border=\"1\" class=\"dataframe\">\n",
              "  <thead>\n",
              "    <tr style=\"text-align: right;\">\n",
              "      <th></th>\n",
              "      <th>Date</th>\n",
              "      <th>AAPL</th>\n",
              "      <th>BA</th>\n",
              "      <th>T</th>\n",
              "      <th>MGM</th>\n",
              "      <th>AMZN</th>\n",
              "      <th>IBM</th>\n",
              "      <th>TSLA</th>\n",
              "      <th>GOOG</th>\n",
              "      <th>sp500</th>\n",
              "    </tr>\n",
              "  </thead>\n",
              "  <tbody>\n",
              "    <tr>\n",
              "      <th>0</th>\n",
              "      <td>2012-01-12</td>\n",
              "      <td>53146800</td>\n",
              "      <td>3934500</td>\n",
              "      <td>26511100</td>\n",
              "      <td>17891100</td>\n",
              "      <td>5385800</td>\n",
              "      <td>6881000</td>\n",
              "      <td>729300</td>\n",
              "      <td>3764400</td>\n",
              "      <td>4019890000</td>\n",
              "    </tr>\n",
              "    <tr>\n",
              "      <th>1</th>\n",
              "      <td>2012-01-13</td>\n",
              "      <td>56505400</td>\n",
              "      <td>4641100</td>\n",
              "      <td>22096800</td>\n",
              "      <td>16621800</td>\n",
              "      <td>4753500</td>\n",
              "      <td>5279200</td>\n",
              "      <td>5500400</td>\n",
              "      <td>4631800</td>\n",
              "      <td>3692370000</td>\n",
              "    </tr>\n",
              "    <tr>\n",
              "      <th>2</th>\n",
              "      <td>2012-01-17</td>\n",
              "      <td>60724300</td>\n",
              "      <td>3700100</td>\n",
              "      <td>23500200</td>\n",
              "      <td>15480800</td>\n",
              "      <td>5644500</td>\n",
              "      <td>6003400</td>\n",
              "      <td>4651600</td>\n",
              "      <td>3832800</td>\n",
              "      <td>4010490000</td>\n",
              "    </tr>\n",
              "    <tr>\n",
              "      <th>3</th>\n",
              "      <td>2012-01-18</td>\n",
              "      <td>69197800</td>\n",
              "      <td>4189500</td>\n",
              "      <td>22015000</td>\n",
              "      <td>18387600</td>\n",
              "      <td>7473500</td>\n",
              "      <td>4600600</td>\n",
              "      <td>1260200</td>\n",
              "      <td>5544000</td>\n",
              "      <td>4096160000</td>\n",
              "    </tr>\n",
              "    <tr>\n",
              "      <th>4</th>\n",
              "      <td>2012-01-19</td>\n",
              "      <td>65434600</td>\n",
              "      <td>5397300</td>\n",
              "      <td>25524000</td>\n",
              "      <td>14022900</td>\n",
              "      <td>7096000</td>\n",
              "      <td>8567200</td>\n",
              "      <td>1246300</td>\n",
              "      <td>12657800</td>\n",
              "      <td>4465890000</td>\n",
              "    </tr>\n",
              "    <tr>\n",
              "      <th>...</th>\n",
              "      <td>...</td>\n",
              "      <td>...</td>\n",
              "      <td>...</td>\n",
              "      <td>...</td>\n",
              "      <td>...</td>\n",
              "      <td>...</td>\n",
              "      <td>...</td>\n",
              "      <td>...</td>\n",
              "      <td>...</td>\n",
              "      <td>...</td>\n",
              "    </tr>\n",
              "    <tr>\n",
              "      <th>2154</th>\n",
              "      <td>2020-08-05</td>\n",
              "      <td>30498000</td>\n",
              "      <td>46551000</td>\n",
              "      <td>22991700</td>\n",
              "      <td>18914200</td>\n",
              "      <td>3930000</td>\n",
              "      <td>3675400</td>\n",
              "      <td>4978000</td>\n",
              "      <td>1979500</td>\n",
              "      <td>4732220000</td>\n",
              "    </tr>\n",
              "    <tr>\n",
              "      <th>2155</th>\n",
              "      <td>2020-08-06</td>\n",
              "      <td>50607200</td>\n",
              "      <td>32921600</td>\n",
              "      <td>21908700</td>\n",
              "      <td>35867700</td>\n",
              "      <td>3940600</td>\n",
              "      <td>3417100</td>\n",
              "      <td>5992300</td>\n",
              "      <td>1995400</td>\n",
              "      <td>4267490000</td>\n",
              "    </tr>\n",
              "    <tr>\n",
              "      <th>2156</th>\n",
              "      <td>2020-08-07</td>\n",
              "      <td>49453300</td>\n",
              "      <td>19301600</td>\n",
              "      <td>30398500</td>\n",
              "      <td>34530300</td>\n",
              "      <td>3929600</td>\n",
              "      <td>3651000</td>\n",
              "      <td>8883500</td>\n",
              "      <td>1576600</td>\n",
              "      <td>4104860000</td>\n",
              "    </tr>\n",
              "    <tr>\n",
              "      <th>2157</th>\n",
              "      <td>2020-08-10</td>\n",
              "      <td>53100900</td>\n",
              "      <td>35857700</td>\n",
              "      <td>35514400</td>\n",
              "      <td>71219700</td>\n",
              "      <td>3167300</td>\n",
              "      <td>3968300</td>\n",
              "      <td>7522300</td>\n",
              "      <td>1289300</td>\n",
              "      <td>4318570000</td>\n",
              "    </tr>\n",
              "    <tr>\n",
              "      <th>2158</th>\n",
              "      <td>2020-08-11</td>\n",
              "      <td>46871100</td>\n",
              "      <td>60966900</td>\n",
              "      <td>30978300</td>\n",
              "      <td>34357900</td>\n",
              "      <td>3706600</td>\n",
              "      <td>4998500</td>\n",
              "      <td>8356000</td>\n",
              "      <td>1452000</td>\n",
              "      <td>5087650000</td>\n",
              "    </tr>\n",
              "  </tbody>\n",
              "</table>\n",
              "<p>2159 rows × 10 columns</p>\n",
              "</div>"
            ],
            "text/plain": [
              "            Date      AAPL        BA  ...     TSLA      GOOG       sp500\n",
              "0     2012-01-12  53146800   3934500  ...   729300   3764400  4019890000\n",
              "1     2012-01-13  56505400   4641100  ...  5500400   4631800  3692370000\n",
              "2     2012-01-17  60724300   3700100  ...  4651600   3832800  4010490000\n",
              "3     2012-01-18  69197800   4189500  ...  1260200   5544000  4096160000\n",
              "4     2012-01-19  65434600   5397300  ...  1246300  12657800  4465890000\n",
              "...          ...       ...       ...  ...      ...       ...         ...\n",
              "2154  2020-08-05  30498000  46551000  ...  4978000   1979500  4732220000\n",
              "2155  2020-08-06  50607200  32921600  ...  5992300   1995400  4267490000\n",
              "2156  2020-08-07  49453300  19301600  ...  8883500   1576600  4104860000\n",
              "2157  2020-08-10  53100900  35857700  ...  7522300   1289300  4318570000\n",
              "2158  2020-08-11  46871100  60966900  ...  8356000   1452000  5087650000\n",
              "\n",
              "[2159 rows x 10 columns]"
            ]
          },
          "metadata": {
            "tags": []
          },
          "execution_count": 12
        }
      ]
    },
    {
      "cell_type": "code",
      "metadata": {
        "id": "hvihVJ0UZ2fe",
        "colab": {
          "base_uri": "https://localhost:8080/"
        },
        "outputId": "176c4e93-7ca3-4507-bf94-afa98b092e6c"
      },
      "source": [
        "# Check if Null values exist in stock prices data\n",
        "stock_price_df.isnull().sum()"
      ],
      "execution_count": null,
      "outputs": [
        {
          "output_type": "execute_result",
          "data": {
            "text/plain": [
              "Date     0\n",
              "AAPL     0\n",
              "BA       0\n",
              "T        0\n",
              "MGM      0\n",
              "AMZN     0\n",
              "IBM      0\n",
              "TSLA     0\n",
              "GOOG     0\n",
              "sp500    0\n",
              "dtype: int64"
            ]
          },
          "metadata": {
            "tags": []
          },
          "execution_count": 13
        }
      ]
    },
    {
      "cell_type": "code",
      "metadata": {
        "id": "NkMQnKIZ099u",
        "colab": {
          "base_uri": "https://localhost:8080/"
        },
        "outputId": "24862a7f-0891-4e3a-ff09-eaf09d6a807b"
      },
      "source": [
        "# Check if Null values exist in stocks volume data\n",
        "stock_vol_df.isnull().sum()"
      ],
      "execution_count": null,
      "outputs": [
        {
          "output_type": "execute_result",
          "data": {
            "text/plain": [
              "Date     0\n",
              "AAPL     0\n",
              "BA       0\n",
              "T        0\n",
              "MGM      0\n",
              "AMZN     0\n",
              "IBM      0\n",
              "TSLA     0\n",
              "GOOG     0\n",
              "sp500    0\n",
              "dtype: int64"
            ]
          },
          "metadata": {
            "tags": []
          },
          "execution_count": 15
        }
      ]
    },
    {
      "cell_type": "code",
      "metadata": {
        "id": "Z4nClRot5F4y",
        "colab": {
          "base_uri": "https://localhost:8080/"
        },
        "outputId": "f8bad337-436c-4d86-bd69-72d02b910bda"
      },
      "source": [
        "# Get stock prices dataframe info\n",
        "stock_price_df.info()"
      ],
      "execution_count": null,
      "outputs": [
        {
          "output_type": "stream",
          "text": [
            "<class 'pandas.core.frame.DataFrame'>\n",
            "Int64Index: 2159 entries, 0 to 2158\n",
            "Data columns (total 10 columns):\n",
            " #   Column  Non-Null Count  Dtype  \n",
            "---  ------  --------------  -----  \n",
            " 0   Date    2159 non-null   object \n",
            " 1   AAPL    2159 non-null   float64\n",
            " 2   BA      2159 non-null   float64\n",
            " 3   T       2159 non-null   float64\n",
            " 4   MGM     2159 non-null   float64\n",
            " 5   AMZN    2159 non-null   float64\n",
            " 6   IBM     2159 non-null   float64\n",
            " 7   TSLA    2159 non-null   float64\n",
            " 8   GOOG    2159 non-null   float64\n",
            " 9   sp500   2159 non-null   float64\n",
            "dtypes: float64(9), object(1)\n",
            "memory usage: 185.5+ KB\n"
          ],
          "name": "stdout"
        }
      ]
    },
    {
      "cell_type": "code",
      "metadata": {
        "id": "onwN8ky494An",
        "colab": {
          "base_uri": "https://localhost:8080/"
        },
        "outputId": "7ffebc92-c0e8-4fdc-a500-78843bb61d81"
      },
      "source": [
        "# Get stock volume dataframe info\n",
        "stock_vol_df.info()"
      ],
      "execution_count": null,
      "outputs": [
        {
          "output_type": "stream",
          "text": [
            "<class 'pandas.core.frame.DataFrame'>\n",
            "Int64Index: 2159 entries, 0 to 2158\n",
            "Data columns (total 10 columns):\n",
            " #   Column  Non-Null Count  Dtype \n",
            "---  ------  --------------  ----- \n",
            " 0   Date    2159 non-null   object\n",
            " 1   AAPL    2159 non-null   int64 \n",
            " 2   BA      2159 non-null   int64 \n",
            " 3   T       2159 non-null   int64 \n",
            " 4   MGM     2159 non-null   int64 \n",
            " 5   AMZN    2159 non-null   int64 \n",
            " 6   IBM     2159 non-null   int64 \n",
            " 7   TSLA    2159 non-null   int64 \n",
            " 8   GOOG    2159 non-null   int64 \n",
            " 9   sp500   2159 non-null   int64 \n",
            "dtypes: int64(9), object(1)\n",
            "memory usage: 185.5+ KB\n"
          ],
          "name": "stdout"
        }
      ]
    },
    {
      "cell_type": "markdown",
      "metadata": {
        "id": "h-RXyk-jceFT"
      },
      "source": [
        "**MINI CHALLENGE #1:**\n",
        "- **What is the average trading volume for Apple stock?**\n",
        "- **What is the maximum trading volume for sp500?**\n",
        "- **Which security is traded the most? comment on your answer**\n",
        "- **What is the average stock price of the S&P500 over the specified time period?**\n",
        "- **What is the maximum price of Tesla Stock?**\n"
      ]
    },
    {
      "cell_type": "code",
      "metadata": {
        "id": "XXEffbieBXY5",
        "colab": {
          "base_uri": "https://localhost:8080/",
          "height": 282
        },
        "outputId": "8c0ff576-7c98-4b64-9867-47f0127d6b60"
      },
      "source": [
        "stock_price_df.describe()"
      ],
      "execution_count": null,
      "outputs": [
        {
          "output_type": "execute_result",
          "data": {
            "text/html": [
              "<div>\n",
              "<style scoped>\n",
              "    .dataframe tbody tr th:only-of-type {\n",
              "        vertical-align: middle;\n",
              "    }\n",
              "\n",
              "    .dataframe tbody tr th {\n",
              "        vertical-align: top;\n",
              "    }\n",
              "\n",
              "    .dataframe thead th {\n",
              "        text-align: right;\n",
              "    }\n",
              "</style>\n",
              "<table border=\"1\" class=\"dataframe\">\n",
              "  <thead>\n",
              "    <tr style=\"text-align: right;\">\n",
              "      <th></th>\n",
              "      <th>AAPL</th>\n",
              "      <th>BA</th>\n",
              "      <th>T</th>\n",
              "      <th>MGM</th>\n",
              "      <th>AMZN</th>\n",
              "      <th>IBM</th>\n",
              "      <th>TSLA</th>\n",
              "      <th>GOOG</th>\n",
              "      <th>sp500</th>\n",
              "    </tr>\n",
              "  </thead>\n",
              "  <tbody>\n",
              "    <tr>\n",
              "      <th>count</th>\n",
              "      <td>2159.000000</td>\n",
              "      <td>2159.000000</td>\n",
              "      <td>2159.000000</td>\n",
              "      <td>2159.000000</td>\n",
              "      <td>2159.000000</td>\n",
              "      <td>2159.000000</td>\n",
              "      <td>2159.000000</td>\n",
              "      <td>2159.000000</td>\n",
              "      <td>2159.000000</td>\n",
              "    </tr>\n",
              "    <tr>\n",
              "      <th>mean</th>\n",
              "      <td>140.819823</td>\n",
              "      <td>189.942700</td>\n",
              "      <td>35.162899</td>\n",
              "      <td>23.105743</td>\n",
              "      <td>915.665665</td>\n",
              "      <td>161.853001</td>\n",
              "      <td>259.600815</td>\n",
              "      <td>783.712512</td>\n",
              "      <td>2218.749554</td>\n",
              "    </tr>\n",
              "    <tr>\n",
              "      <th>std</th>\n",
              "      <td>70.827601</td>\n",
              "      <td>103.678586</td>\n",
              "      <td>3.207490</td>\n",
              "      <td>6.963847</td>\n",
              "      <td>697.838905</td>\n",
              "      <td>25.561938</td>\n",
              "      <td>210.988003</td>\n",
              "      <td>334.448057</td>\n",
              "      <td>537.321727</td>\n",
              "    </tr>\n",
              "    <tr>\n",
              "      <th>min</th>\n",
              "      <td>55.790001</td>\n",
              "      <td>67.239998</td>\n",
              "      <td>26.770000</td>\n",
              "      <td>7.140000</td>\n",
              "      <td>175.929993</td>\n",
              "      <td>94.769997</td>\n",
              "      <td>22.790001</td>\n",
              "      <td>278.481171</td>\n",
              "      <td>1278.040039</td>\n",
              "    </tr>\n",
              "    <tr>\n",
              "      <th>25%</th>\n",
              "      <td>89.165714</td>\n",
              "      <td>124.015000</td>\n",
              "      <td>33.040001</td>\n",
              "      <td>18.545000</td>\n",
              "      <td>316.490005</td>\n",
              "      <td>142.769997</td>\n",
              "      <td>184.595001</td>\n",
              "      <td>527.214416</td>\n",
              "      <td>1847.984985</td>\n",
              "    </tr>\n",
              "    <tr>\n",
              "      <th>50%</th>\n",
              "      <td>116.599998</td>\n",
              "      <td>142.419998</td>\n",
              "      <td>34.930000</td>\n",
              "      <td>23.780001</td>\n",
              "      <td>676.010010</td>\n",
              "      <td>156.949997</td>\n",
              "      <td>231.960007</td>\n",
              "      <td>737.599976</td>\n",
              "      <td>2106.629883</td>\n",
              "    </tr>\n",
              "    <tr>\n",
              "      <th>75%</th>\n",
              "      <td>175.019997</td>\n",
              "      <td>297.044998</td>\n",
              "      <td>37.419998</td>\n",
              "      <td>28.430000</td>\n",
              "      <td>1593.645019</td>\n",
              "      <td>185.974998</td>\n",
              "      <td>307.350006</td>\n",
              "      <td>1079.744995</td>\n",
              "      <td>2705.810059</td>\n",
              "    </tr>\n",
              "    <tr>\n",
              "      <th>max</th>\n",
              "      <td>455.609985</td>\n",
              "      <td>440.619995</td>\n",
              "      <td>43.470001</td>\n",
              "      <td>38.029999</td>\n",
              "      <td>3225.000000</td>\n",
              "      <td>215.800003</td>\n",
              "      <td>1643.000000</td>\n",
              "      <td>1568.489990</td>\n",
              "      <td>3386.149902</td>\n",
              "    </tr>\n",
              "  </tbody>\n",
              "</table>\n",
              "</div>"
            ],
            "text/plain": [
              "              AAPL           BA  ...         GOOG        sp500\n",
              "count  2159.000000  2159.000000  ...  2159.000000  2159.000000\n",
              "mean    140.819823   189.942700  ...   783.712512  2218.749554\n",
              "std      70.827601   103.678586  ...   334.448057   537.321727\n",
              "min      55.790001    67.239998  ...   278.481171  1278.040039\n",
              "25%      89.165714   124.015000  ...   527.214416  1847.984985\n",
              "50%     116.599998   142.419998  ...   737.599976  2106.629883\n",
              "75%     175.019997   297.044998  ...  1079.744995  2705.810059\n",
              "max     455.609985   440.619995  ...  1568.489990  3386.149902\n",
              "\n",
              "[8 rows x 9 columns]"
            ]
          },
          "metadata": {
            "tags": []
          },
          "execution_count": 19
        }
      ]
    },
    {
      "cell_type": "code",
      "metadata": {
        "id": "qBdtyxEZeIcL",
        "colab": {
          "base_uri": "https://localhost:8080/",
          "height": 282
        },
        "outputId": "40c76bdf-4393-4758-ea6a-afc885b42dc5"
      },
      "source": [
        "# Get the statistical data for the stocks volume dataframe\r\n",
        "# Average trading volume for Apple stock is 2.498238e+06\t\r\n",
        "# Average trading volume for S&P500 is 3.680732e+09\r\n",
        "# Avg stock price is 2218.749554 \r\n",
        "# max for tesla stock is 1643.000000\r\n",
        "\r\n",
        "# Why S&P500 is the most traded of all? Check out this article: \r\n",
        "# https://www.investopedia.com/articles/personal-finance/022216/put-10000-sp-500-etf-and-wait-20-years.asp\r\n",
        "\r\n",
        "# Text from the article above:\r\n",
        "# \"The S&P 500 index is a broad-based measure of large corporations traded on U.S. stock markets. Over long periods of time, \r\n",
        "# passively holding the index often produces better results than actively trading or picking single stocks.\r\n",
        "# Over long-time horizons, the index typically produces better returns than actively managed portfolios.\"\r\n",
        "stock_vol_df.describe()"
      ],
      "execution_count": null,
      "outputs": [
        {
          "output_type": "execute_result",
          "data": {
            "text/html": [
              "<div>\n",
              "<style scoped>\n",
              "    .dataframe tbody tr th:only-of-type {\n",
              "        vertical-align: middle;\n",
              "    }\n",
              "\n",
              "    .dataframe tbody tr th {\n",
              "        vertical-align: top;\n",
              "    }\n",
              "\n",
              "    .dataframe thead th {\n",
              "        text-align: right;\n",
              "    }\n",
              "</style>\n",
              "<table border=\"1\" class=\"dataframe\">\n",
              "  <thead>\n",
              "    <tr style=\"text-align: right;\">\n",
              "      <th></th>\n",
              "      <th>AAPL</th>\n",
              "      <th>BA</th>\n",
              "      <th>T</th>\n",
              "      <th>MGM</th>\n",
              "      <th>AMZN</th>\n",
              "      <th>IBM</th>\n",
              "      <th>TSLA</th>\n",
              "      <th>GOOG</th>\n",
              "      <th>sp500</th>\n",
              "    </tr>\n",
              "  </thead>\n",
              "  <tbody>\n",
              "    <tr>\n",
              "      <th>count</th>\n",
              "      <td>2.159000e+03</td>\n",
              "      <td>2.159000e+03</td>\n",
              "      <td>2.159000e+03</td>\n",
              "      <td>2.159000e+03</td>\n",
              "      <td>2.159000e+03</td>\n",
              "      <td>2.159000e+03</td>\n",
              "      <td>2.159000e+03</td>\n",
              "      <td>2.159000e+03</td>\n",
              "      <td>2.159000e+03</td>\n",
              "    </tr>\n",
              "    <tr>\n",
              "      <th>mean</th>\n",
              "      <td>5.820332e+07</td>\n",
              "      <td>6.419916e+06</td>\n",
              "      <td>2.832131e+07</td>\n",
              "      <td>9.845582e+06</td>\n",
              "      <td>4.102673e+06</td>\n",
              "      <td>4.453090e+06</td>\n",
              "      <td>7.001302e+06</td>\n",
              "      <td>2.498238e+06</td>\n",
              "      <td>3.680732e+09</td>\n",
              "    </tr>\n",
              "    <tr>\n",
              "      <th>std</th>\n",
              "      <td>4.568141e+07</td>\n",
              "      <td>9.711873e+06</td>\n",
              "      <td>1.428911e+07</td>\n",
              "      <td>7.295753e+06</td>\n",
              "      <td>2.290722e+06</td>\n",
              "      <td>2.462811e+06</td>\n",
              "      <td>5.781208e+06</td>\n",
              "      <td>1.928407e+06</td>\n",
              "      <td>8.622717e+08</td>\n",
              "    </tr>\n",
              "    <tr>\n",
              "      <th>min</th>\n",
              "      <td>1.136200e+07</td>\n",
              "      <td>7.889000e+05</td>\n",
              "      <td>6.862400e+06</td>\n",
              "      <td>9.507000e+05</td>\n",
              "      <td>8.813000e+05</td>\n",
              "      <td>1.193000e+06</td>\n",
              "      <td>3.649000e+05</td>\n",
              "      <td>7.900000e+03</td>\n",
              "      <td>1.248960e+09</td>\n",
              "    </tr>\n",
              "    <tr>\n",
              "      <th>25%</th>\n",
              "      <td>2.769930e+07</td>\n",
              "      <td>3.031850e+06</td>\n",
              "      <td>2.002150e+07</td>\n",
              "      <td>5.796450e+06</td>\n",
              "      <td>2.675700e+06</td>\n",
              "      <td>3.111250e+06</td>\n",
              "      <td>3.433450e+06</td>\n",
              "      <td>1.325400e+06</td>\n",
              "      <td>3.211890e+09</td>\n",
              "    </tr>\n",
              "    <tr>\n",
              "      <th>50%</th>\n",
              "      <td>4.209420e+07</td>\n",
              "      <td>3.991000e+06</td>\n",
              "      <td>2.485930e+07</td>\n",
              "      <td>7.899800e+06</td>\n",
              "      <td>3.494800e+06</td>\n",
              "      <td>3.825000e+06</td>\n",
              "      <td>5.581100e+06</td>\n",
              "      <td>1.813900e+06</td>\n",
              "      <td>3.526890e+09</td>\n",
              "    </tr>\n",
              "    <tr>\n",
              "      <th>75%</th>\n",
              "      <td>7.182480e+07</td>\n",
              "      <td>5.325900e+06</td>\n",
              "      <td>3.210565e+07</td>\n",
              "      <td>1.104055e+07</td>\n",
              "      <td>4.768150e+06</td>\n",
              "      <td>4.937300e+06</td>\n",
              "      <td>8.619550e+06</td>\n",
              "      <td>3.245350e+06</td>\n",
              "      <td>3.933290e+09</td>\n",
              "    </tr>\n",
              "    <tr>\n",
              "      <th>max</th>\n",
              "      <td>3.765300e+08</td>\n",
              "      <td>1.032128e+08</td>\n",
              "      <td>1.950827e+08</td>\n",
              "      <td>9.009820e+07</td>\n",
              "      <td>2.385610e+07</td>\n",
              "      <td>3.049020e+07</td>\n",
              "      <td>6.093880e+07</td>\n",
              "      <td>2.497790e+07</td>\n",
              "      <td>9.044690e+09</td>\n",
              "    </tr>\n",
              "  </tbody>\n",
              "</table>\n",
              "</div>"
            ],
            "text/plain": [
              "               AAPL            BA  ...          GOOG         sp500\n",
              "count  2.159000e+03  2.159000e+03  ...  2.159000e+03  2.159000e+03\n",
              "mean   5.820332e+07  6.419916e+06  ...  2.498238e+06  3.680732e+09\n",
              "std    4.568141e+07  9.711873e+06  ...  1.928407e+06  8.622717e+08\n",
              "min    1.136200e+07  7.889000e+05  ...  7.900000e+03  1.248960e+09\n",
              "25%    2.769930e+07  3.031850e+06  ...  1.325400e+06  3.211890e+09\n",
              "50%    4.209420e+07  3.991000e+06  ...  1.813900e+06  3.526890e+09\n",
              "75%    7.182480e+07  5.325900e+06  ...  3.245350e+06  3.933290e+09\n",
              "max    3.765300e+08  1.032128e+08  ...  2.497790e+07  9.044690e+09\n",
              "\n",
              "[8 rows x 9 columns]"
            ]
          },
          "metadata": {
            "tags": []
          },
          "execution_count": 20
        }
      ]
    },
    {
      "cell_type": "markdown",
      "metadata": {
        "id": "-nFC4pHcGr57"
      },
      "source": [
        "#TASK #3: PERFORM EXPLORATORY DATA ANALYSIS AND VISUALIZATION"
      ]
    },
    {
      "cell_type": "code",
      "metadata": {
        "id": "YDkIJX8rEMxC",
        "colab": {
          "base_uri": "https://localhost:8080/",
          "height": 36
        },
        "outputId": "75916f5f-31b7-4a37-b3e9-fa45b66ecbfc"
      },
      "source": [
        "# Function to normalize stock prices based on their initial price\n",
        "pd.__version__"
      ],
      "execution_count": null,
      "outputs": [
        {
          "output_type": "execute_result",
          "data": {
            "application/vnd.google.colaboratory.intrinsic+json": {
              "type": "string"
            },
            "text/plain": [
              "'1.1.4'"
            ]
          },
          "metadata": {
            "tags": []
          },
          "execution_count": 21
        }
      ]
    },
    {
      "cell_type": "markdown",
      "metadata": {
        "id": "hGNiYwkkLqfu"
      },
      "source": [
        "# Function to plot interactive plots using Plotly Express\n"
      ]
    },
    {
      "cell_type": "code",
      "metadata": {
        "id": "zzkZZQ5NO2AJ"
      },
      "source": [
        "# plot interactive chart for stocks data\n"
      ],
      "execution_count": null,
      "outputs": []
    },
    {
      "cell_type": "code",
      "metadata": {
        "id": "q2Ob2EijWspl"
      },
      "source": [
        ""
      ],
      "execution_count": null,
      "outputs": []
    },
    {
      "cell_type": "markdown",
      "metadata": {
        "id": "sWflwv1or9s_"
      },
      "source": [
        "![alt text](https://drive.google.com/uc?id=1uXYYHfgeJyncu4BZRAooTC4iCclH9e9B)"
      ]
    },
    {
      "cell_type": "code",
      "metadata": {
        "id": "LA1XN-zgBMHI"
      },
      "source": [
        "# Function to concatenate the date, stock price, and volume in one dataframe\n"
      ],
      "execution_count": null,
      "outputs": []
    },
    {
      "cell_type": "code",
      "metadata": {
        "id": "NP_-Yyay__cb"
      },
      "source": [
        "# Function to return the input/output (target) data for AI/ML Model\n",
        "# Note that our goal is to predict the future stock price \n",
        "# Target stock price today will be tomorrow's price \n"
      ],
      "execution_count": null,
      "outputs": []
    },
    {
      "cell_type": "code",
      "metadata": {
        "id": "-VdtCh0BB_vH"
      },
      "source": [
        "# Let's test the functions and get individual stock prices and volumes for AAPL\n"
      ],
      "execution_count": null,
      "outputs": []
    },
    {
      "cell_type": "code",
      "metadata": {
        "id": "8sZ9a0mMCYq-"
      },
      "source": [
        ""
      ],
      "execution_count": null,
      "outputs": []
    },
    {
      "cell_type": "code",
      "metadata": {
        "id": "6UdkMEUcD18c"
      },
      "source": [
        "# Remove the last row as it will be a null value\n"
      ],
      "execution_count": null,
      "outputs": []
    },
    {
      "cell_type": "code",
      "metadata": {
        "id": "M08n1GlnZtlL"
      },
      "source": [
        "# Scale the data\n"
      ],
      "execution_count": null,
      "outputs": []
    },
    {
      "cell_type": "code",
      "metadata": {
        "id": "4zq-g6ifiAxz"
      },
      "source": [
        ""
      ],
      "execution_count": null,
      "outputs": []
    },
    {
      "cell_type": "code",
      "metadata": {
        "id": "WO3fljBwZ7S9"
      },
      "source": [
        ""
      ],
      "execution_count": null,
      "outputs": []
    },
    {
      "cell_type": "code",
      "metadata": {
        "id": "RvVJa_UvD_uB"
      },
      "source": [
        "# Create Feature and Target\n"
      ],
      "execution_count": null,
      "outputs": []
    },
    {
      "cell_type": "code",
      "metadata": {
        "id": "3fo5uTvyOuPQ"
      },
      "source": [
        ""
      ],
      "execution_count": null,
      "outputs": []
    },
    {
      "cell_type": "code",
      "metadata": {
        "id": "T_cEMuWBOzZt"
      },
      "source": [
        ""
      ],
      "execution_count": null,
      "outputs": []
    },
    {
      "cell_type": "code",
      "metadata": {
        "id": "HIlzHnyxGoXI"
      },
      "source": [
        "# Spliting the data this way, since order is important in time-series\n",
        "# Note that we did not use train test split with it's default settings since it shuffles the data\n"
      ],
      "execution_count": null,
      "outputs": []
    },
    {
      "cell_type": "code",
      "metadata": {
        "id": "-cg-HNcvFJak"
      },
      "source": [
        ""
      ],
      "execution_count": null,
      "outputs": []
    },
    {
      "cell_type": "code",
      "metadata": {
        "id": "gH88gQ1vif5j"
      },
      "source": [
        ""
      ],
      "execution_count": null,
      "outputs": []
    },
    {
      "cell_type": "code",
      "metadata": {
        "id": "DkHMQQVAPJvb"
      },
      "source": [
        ""
      ],
      "execution_count": null,
      "outputs": []
    },
    {
      "cell_type": "code",
      "metadata": {
        "id": "pYNTq_F0PR0C"
      },
      "source": [
        ""
      ],
      "execution_count": null,
      "outputs": []
    },
    {
      "cell_type": "code",
      "metadata": {
        "id": "kZWI-GhZPWIJ"
      },
      "source": [
        ""
      ],
      "execution_count": null,
      "outputs": []
    },
    {
      "cell_type": "code",
      "metadata": {
        "id": "AngtzCsFPc4g"
      },
      "source": [
        ""
      ],
      "execution_count": null,
      "outputs": []
    },
    {
      "cell_type": "code",
      "metadata": {
        "id": "05EDujLnPc2P"
      },
      "source": [
        ""
      ],
      "execution_count": null,
      "outputs": []
    },
    {
      "cell_type": "code",
      "metadata": {
        "id": "GFtSZ4_lk4Aq"
      },
      "source": [
        "# Define a data plotting function\n",
        "\n",
        "\n"
      ],
      "execution_count": null,
      "outputs": []
    },
    {
      "cell_type": "markdown",
      "metadata": {
        "id": "a-Hm8xa9kPH_"
      },
      "source": [
        "**MINI CHALLENGE #3:**\n",
        "- **Test the created pipeline with S&P500 and Amazon datasets**"
      ]
    },
    {
      "cell_type": "code",
      "metadata": {
        "id": "JAWNvyQ496Q-"
      },
      "source": [
        ""
      ],
      "execution_count": null,
      "outputs": []
    },
    {
      "cell_type": "markdown",
      "metadata": {
        "id": "3L9IZXbB_JEu"
      },
      "source": [
        "# TASK #5: UNDERSTAND THE THEORY AND INTUITION BEHIND REGRESSION "
      ]
    },
    {
      "cell_type": "markdown",
      "metadata": {
        "id": "c-8o7GKqrpxW"
      },
      "source": [
        "![alt text](https://drive.google.com/uc?id=1wJHaXRzsqMi713Qkzo2IQgZTmsDxU8f7)"
      ]
    },
    {
      "cell_type": "markdown",
      "metadata": {
        "id": "20Lu4pwHr9Kn"
      },
      "source": [
        "![alt text](https://drive.google.com/uc?id=1vDuV9M1b6KF5yIvWpiUqhI7zSr7CKk5g)"
      ]
    },
    {
      "cell_type": "markdown",
      "metadata": {
        "id": "XanItQ7dr9fb"
      },
      "source": [
        "![alt text](https://drive.google.com/uc?id=1H-wED3vnYj3ZpsvK0dOEPwYGVjSVhpfI)"
      ]
    },
    {
      "cell_type": "markdown",
      "metadata": {
        "id": "v9v70Skjr9nM"
      },
      "source": [
        "![alt text](https://drive.google.com/uc?id=1KM0yvHp1DjVZ87uf68yJdqj2Sh_oTLLT)"
      ]
    },
    {
      "cell_type": "markdown",
      "metadata": {
        "id": "4VFLC6-ggdLH"
      },
      "source": [
        "# TASK #6: UNDERSTAND THE CONCEPT OF REGULARIZATION & RIDGE REGRESSION"
      ]
    },
    {
      "cell_type": "markdown",
      "metadata": {
        "id": "HByHVSuEr9xM"
      },
      "source": [
        "![alt text](https://drive.google.com/uc?id=1m9NX1aEDLAW2QCqeiQMYggnY3ovVW8QO)"
      ]
    },
    {
      "cell_type": "markdown",
      "metadata": {
        "id": "54t65rEZr91p"
      },
      "source": [
        "![alt text](https://drive.google.com/uc?id=13Wn7UkxVkbRlIiJ-rZIrqAItfumj_wzi)"
      ]
    },
    {
      "cell_type": "markdown",
      "metadata": {
        "id": "Rr15j2Glr9-7"
      },
      "source": [
        "![alt text](https://drive.google.com/uc?id=1WB1wdMUYqDNAhCytmk889w9SVQQVrwlt)"
      ]
    },
    {
      "cell_type": "markdown",
      "metadata": {
        "id": "bq6MBEUGr-A-"
      },
      "source": [
        "![alt text](https://drive.google.com/uc?id=1IsQLtMZbKMyITX_FVr50ZkB68uUuQwmB)"
      ]
    },
    {
      "cell_type": "markdown",
      "metadata": {
        "id": "ahHVswb1r-C_"
      },
      "source": [
        "![alt text](https://drive.google.com/uc?id=1D37GCrEMLdFwjTQL9WIoPEsLlEyITuX5)"
      ]
    },
    {
      "cell_type": "markdown",
      "metadata": {
        "id": "6tLvna5Gr-FL"
      },
      "source": [
        "![alt text](https://drive.google.com/uc?id=1IBz73HFZPUD6wTEoerXGFTJKhhZyAyb9)"
      ]
    },
    {
      "cell_type": "markdown",
      "metadata": {
        "id": "2FVSgRmFFkW5"
      },
      "source": [
        "# TASK #7: BUILD AND TRAIN A RIDGE LINEAR REGRESSION MODEL"
      ]
    },
    {
      "cell_type": "code",
      "metadata": {
        "id": "QECbURfqFvBP"
      },
      "source": [
        "from sklearn.linear_model import Ridge\n",
        "# Note that Ridge regression performs linear least squares with L2 regularization.\n",
        "# Create and train the Ridge Linear Regression  Model\n"
      ],
      "execution_count": null,
      "outputs": []
    },
    {
      "cell_type": "code",
      "metadata": {
        "id": "gFxXpwVfWPaC"
      },
      "source": [
        "# Test the model and calculate its accuracy \n"
      ],
      "execution_count": null,
      "outputs": []
    },
    {
      "cell_type": "code",
      "metadata": {
        "id": "V1Jw5dmMJGwP"
      },
      "source": [
        "# Make Prediction\n"
      ],
      "execution_count": null,
      "outputs": []
    },
    {
      "cell_type": "code",
      "metadata": {
        "id": "2VNXZpyehMct"
      },
      "source": [
        "# Append the predicted values into a list\n"
      ],
      "execution_count": null,
      "outputs": []
    },
    {
      "cell_type": "code",
      "metadata": {
        "id": "uYzR5OwB8a4E"
      },
      "source": [
        ""
      ],
      "execution_count": null,
      "outputs": []
    },
    {
      "cell_type": "code",
      "metadata": {
        "id": "AYGT3NAlah-1"
      },
      "source": [
        "# Append the close values to the list\n",
        "\n"
      ],
      "execution_count": null,
      "outputs": []
    },
    {
      "cell_type": "code",
      "metadata": {
        "id": "KAZJ5HnsJjDH"
      },
      "source": [
        "# Create a dataframe based on the dates in the individual stock data\n"
      ],
      "execution_count": null,
      "outputs": []
    },
    {
      "cell_type": "code",
      "metadata": {
        "id": "ap51j2zMbukl"
      },
      "source": [
        "# Add the close values to the dataframe\n"
      ],
      "execution_count": null,
      "outputs": []
    },
    {
      "cell_type": "code",
      "metadata": {
        "id": "xTvlo0ZpJ2Sn"
      },
      "source": [
        "# Add the predicted values to the dataframe\n"
      ],
      "execution_count": null,
      "outputs": []
    },
    {
      "cell_type": "code",
      "metadata": {
        "id": "d8OSiw6IKBXX"
      },
      "source": [
        "# Plot the results\n"
      ],
      "execution_count": null,
      "outputs": []
    },
    {
      "cell_type": "markdown",
      "metadata": {
        "id": "vX880Oao92hV"
      },
      "source": [
        "**MINI CHALLENGE #4:**\n",
        "- **Experiment with various regularization values for alpha** \n",
        "- **What is the impact of increasing alpha?**\n",
        "- **Note: default value for alpha is = 1**\n"
      ]
    },
    {
      "cell_type": "code",
      "metadata": {
        "id": "rvszb61h-U7d"
      },
      "source": [
        ""
      ],
      "execution_count": null,
      "outputs": []
    },
    {
      "cell_type": "markdown",
      "metadata": {
        "id": "0nFLBX8zmngT"
      },
      "source": [
        "# TASK #8: UNDERSTAND THE THEORY AND INTUITION BEHIND NEURAL NETWORKS"
      ]
    },
    {
      "cell_type": "markdown",
      "metadata": {
        "id": "6v2WxCTHr-JN"
      },
      "source": [
        "![alt text](https://drive.google.com/uc?id=1U2auh7KSalF4qc8iWFScawEB3TniFeXw)"
      ]
    },
    {
      "cell_type": "markdown",
      "metadata": {
        "id": "Z7PIHLB3r-Qp"
      },
      "source": [
        "![alt text](https://drive.google.com/uc?id=1xsy74Dj9JyuvwcPzmQcwN9hzHGevAvKB)"
      ]
    },
    {
      "cell_type": "markdown",
      "metadata": {
        "id": "BTWwwQl5r-S_"
      },
      "source": [
        "![alt text](https://drive.google.com/uc?id=1b2wIRl63jXgyoh_w1ysxk3XvTJ5j8864)"
      ]
    },
    {
      "cell_type": "markdown",
      "metadata": {
        "id": "liBQUqelyoPD"
      },
      "source": [
        "# TASK #9: UNDERSTAND HOW DO ARTFICIAL NEURAL NETWORKS TRAIN "
      ]
    },
    {
      "cell_type": "markdown",
      "metadata": {
        "id": "tZsmueG8r-VN"
      },
      "source": [
        "![alt text](https://drive.google.com/uc?id=1pg1rxBoHDtRNVNN0TyMvnCMVKw9ni5pN)"
      ]
    },
    {
      "cell_type": "markdown",
      "metadata": {
        "id": "YOB2MNCXr-X2"
      },
      "source": [
        "![alt text](https://drive.google.com/uc?id=1wc4NOBLC55Hb2s8s_hLI2LWykV4WmLwU)"
      ]
    },
    {
      "cell_type": "markdown",
      "metadata": {
        "id": "E7Pr4BgOr-aS"
      },
      "source": [
        "![alt text](https://drive.google.com/uc?id=1zI3MbDUAws-gpPisqDrVL8BoupWRO6KJ)"
      ]
    },
    {
      "cell_type": "markdown",
      "metadata": {
        "id": "3tx6z-y4r-cd"
      },
      "source": [
        "![alt text](https://drive.google.com/uc?id=1twCXUdFtdFMGsicoQOWI0a9RiHMZ9MK_)"
      ]
    },
    {
      "cell_type": "markdown",
      "metadata": {
        "id": "MLVvVZzEy5I2"
      },
      "source": [
        "# TASK #10: UNDERSTAND THE THEORY AND INTUITION BEHIND RECURRENT NEURAL NETWORKS"
      ]
    },
    {
      "cell_type": "markdown",
      "metadata": {
        "id": "y8rHBMBKr-ey"
      },
      "source": [
        "![alt text](https://drive.google.com/uc?id=1a6w38XX_W2Zcsvde5FDepUax1aRyvnBT)"
      ]
    },
    {
      "cell_type": "markdown",
      "metadata": {
        "id": "KmDdrLdXr9-G"
      },
      "source": [
        "![alt text](https://drive.google.com/uc?id=1tc1SRSaFp-zuvujAQY66E_JEoY6doI0m)"
      ]
    },
    {
      "cell_type": "markdown",
      "metadata": {
        "id": "RmSRXe1Mr95B"
      },
      "source": [
        "![alt text](https://drive.google.com/uc?id=10xmgZjv2IjaY4xFm81rwgKqOC0119tug)"
      ]
    },
    {
      "cell_type": "markdown",
      "metadata": {
        "id": "4Oru5hmFvlsL"
      },
      "source": [
        "![alt text](https://drive.google.com/uc?id=1CwBOagYD82QaayeGDndRjb_Irm5HIwBs)"
      ]
    },
    {
      "cell_type": "markdown",
      "metadata": {
        "id": "3SvxVh1Xvl1z"
      },
      "source": [
        "![alt text](https://drive.google.com/uc?id=148mslyqerZ_gLzQIkPFiDsewCO5nMNK7)"
      ]
    },
    {
      "cell_type": "markdown",
      "metadata": {
        "id": "EaENxN6Lvl65"
      },
      "source": [
        "![alt text](https://drive.google.com/uc?id=1_Ky5ek9gq_Ov6VLTkXFmmzEhvjo91tpB)"
      ]
    },
    {
      "cell_type": "markdown",
      "metadata": {
        "id": "b_ucc-z2_Y8z"
      },
      "source": [
        "# TASK #11: UNDERSTAND THE THEORY AND INTUITION BEHIND LONG SHORT TERM MEMORY NETWORKS"
      ]
    },
    {
      "cell_type": "markdown",
      "metadata": {
        "id": "tv1OwUFYvl9G"
      },
      "source": [
        "![alt text](https://drive.google.com/uc?id=1cd3jZpTuSzsPjMps6SRFqvXNfs4jA_vu)"
      ]
    },
    {
      "cell_type": "markdown",
      "metadata": {
        "id": "rnciLV3Evl_i"
      },
      "source": [
        "![alt text](https://drive.google.com/uc?id=1URS5Ny54g-c3ookAL1FLn28TYFlbDIdG)"
      ]
    },
    {
      "cell_type": "markdown",
      "metadata": {
        "id": "J_ND1n67vmCX"
      },
      "source": [
        "![alt text](https://drive.google.com/uc?id=1Cm3Unnn_b71rfklW_ejm50xYOYkXh8cl)"
      ]
    },
    {
      "cell_type": "markdown",
      "metadata": {
        "id": "aAZRk8GPvmFH"
      },
      "source": [
        "![alt text](https://drive.google.com/uc?id=1pU8lbF965n38ZspjIFsEAU3CEjpclpfd)"
      ]
    },
    {
      "cell_type": "markdown",
      "metadata": {
        "id": "7_CvxPPqvmHW"
      },
      "source": [
        "![alt text](https://drive.google.com/uc?id=1zSqTnPZDfiz6qRgMHaFB9wpB55Fnzwf4)"
      ]
    },
    {
      "cell_type": "markdown",
      "metadata": {
        "id": "vazFXbaOUBPt"
      },
      "source": [
        "# TASK #12: TRAIN AN LSTM TIME SERIES MODEL"
      ]
    },
    {
      "cell_type": "code",
      "metadata": {
        "id": "9EIXG9USAXRa"
      },
      "source": [
        "# Let's test the functions and get individual stock prices and volumes for AAPL\n"
      ],
      "execution_count": null,
      "outputs": []
    },
    {
      "cell_type": "code",
      "metadata": {
        "id": "U-vk2wswjHSV"
      },
      "source": [
        "# Get the close and volume data as training data (Input)\n"
      ],
      "execution_count": null,
      "outputs": []
    },
    {
      "cell_type": "code",
      "metadata": {
        "id": "3v0W8w5hUznl"
      },
      "source": [
        "# Normalize the data\n"
      ],
      "execution_count": null,
      "outputs": []
    },
    {
      "cell_type": "code",
      "metadata": {
        "id": "j0qoyucIdSUm"
      },
      "source": [
        "# Create the training and testing data, training data contains present day and previous day values\n"
      ],
      "execution_count": null,
      "outputs": []
    },
    {
      "cell_type": "code",
      "metadata": {
        "id": "NhoAnE5BBy4q"
      },
      "source": [
        ""
      ],
      "execution_count": null,
      "outputs": []
    },
    {
      "cell_type": "code",
      "metadata": {
        "id": "x8wykXAUbKI8"
      },
      "source": [
        "# Convert the data into array format\n"
      ],
      "execution_count": null,
      "outputs": []
    },
    {
      "cell_type": "code",
      "metadata": {
        "id": "hphqavfBne49"
      },
      "source": [
        "# Split the data\n"
      ],
      "execution_count": null,
      "outputs": []
    },
    {
      "cell_type": "code",
      "metadata": {
        "id": "6_A1uNwzDd40"
      },
      "source": [
        "# Reshape the 1D arrays to 3D arrays to feed in the model\n"
      ],
      "execution_count": null,
      "outputs": []
    },
    {
      "cell_type": "code",
      "metadata": {
        "id": "6nzxE7jNFmTQ"
      },
      "source": [
        ""
      ],
      "execution_count": null,
      "outputs": []
    },
    {
      "cell_type": "code",
      "metadata": {
        "id": "0V8kGJTqFp_e"
      },
      "source": [
        ""
      ],
      "execution_count": null,
      "outputs": []
    },
    {
      "cell_type": "code",
      "metadata": {
        "id": "IffJgfzyFsi1"
      },
      "source": [
        ""
      ],
      "execution_count": null,
      "outputs": []
    },
    {
      "cell_type": "code",
      "metadata": {
        "id": "wv2oJunPj7h5"
      },
      "source": [
        "# Create the model\n"
      ],
      "execution_count": null,
      "outputs": []
    },
    {
      "cell_type": "code",
      "metadata": {
        "id": "rFjmKCd7kVm7"
      },
      "source": [
        "# Train the model\n"
      ],
      "execution_count": null,
      "outputs": []
    },
    {
      "cell_type": "code",
      "metadata": {
        "id": "8VN54FHZefcC"
      },
      "source": [
        "# Make prediction\n"
      ],
      "execution_count": null,
      "outputs": []
    },
    {
      "cell_type": "code",
      "metadata": {
        "id": "HppCo4lqLx8H"
      },
      "source": [
        ""
      ],
      "execution_count": null,
      "outputs": []
    },
    {
      "cell_type": "code",
      "metadata": {
        "id": "x0gsAvg2Lx6v"
      },
      "source": [
        ""
      ],
      "execution_count": null,
      "outputs": []
    },
    {
      "cell_type": "code",
      "metadata": {
        "id": "QScwFF4iLx41"
      },
      "source": [
        ""
      ],
      "execution_count": null,
      "outputs": []
    },
    {
      "cell_type": "code",
      "metadata": {
        "id": "9BHuC76_Lx2D"
      },
      "source": [
        ""
      ],
      "execution_count": null,
      "outputs": []
    },
    {
      "cell_type": "code",
      "metadata": {
        "id": "hahnz1HbH8lE"
      },
      "source": [
        ""
      ],
      "execution_count": null,
      "outputs": []
    },
    {
      "cell_type": "code",
      "metadata": {
        "id": "dByPRHADMgDz"
      },
      "source": [
        ""
      ],
      "execution_count": null,
      "outputs": []
    },
    {
      "cell_type": "code",
      "metadata": {
        "id": "YjvpWrbIMgCC"
      },
      "source": [
        ""
      ],
      "execution_count": null,
      "outputs": []
    },
    {
      "cell_type": "code",
      "metadata": {
        "id": "5jouRCxhMf_-"
      },
      "source": [
        ""
      ],
      "execution_count": null,
      "outputs": []
    },
    {
      "cell_type": "code",
      "metadata": {
        "id": "KMa3aeoOMf9e"
      },
      "source": [
        ""
      ],
      "execution_count": null,
      "outputs": []
    },
    {
      "cell_type": "code",
      "metadata": {
        "id": "FJw2jU0uNBVG"
      },
      "source": [
        ""
      ],
      "execution_count": null,
      "outputs": []
    },
    {
      "cell_type": "markdown",
      "metadata": {
        "id": "snpzZkBcFa4m"
      },
      "source": [
        "**MINI CHALLENGE #5:**\n",
        "- **Test the pipeline with at least 3 other stocks** \n",
        "- **Experiment with various LSTM model parameters (Ex: Use 150 units instead of 50), print out the model summary and retrain the model**\n"
      ]
    },
    {
      "cell_type": "code",
      "metadata": {
        "id": "n5GF7uKago_V"
      },
      "source": [
        ""
      ],
      "execution_count": null,
      "outputs": []
    },
    {
      "cell_type": "markdown",
      "metadata": {
        "id": "dYPapeVp2xgY"
      },
      "source": [
        "# **EXCELLENT JOB! YOU SHOULD BE TRULY PROUD WITH THE NEWLY ACQUIRED SKILLS**"
      ]
    },
    {
      "cell_type": "markdown",
      "metadata": {
        "id": "F_7ATiEAdhD4"
      },
      "source": [
        "# **MINI CHALLENGE SOLUTIONS**"
      ]
    },
    {
      "cell_type": "markdown",
      "metadata": {
        "id": "tgnAxNwmdbek"
      },
      "source": [
        "**MINI CHALLENGE #1 SOLUTION:**\n",
        "- **What is the average trading volume for Apple stock?**\n",
        "- **What is the maximum trading volume for sp500?**\n",
        "- **Which security is traded the most? comment on your answer**\n",
        "- **What is the average stock price of the S&P500 over the specified time period?**\n",
        "- **What is the maximum price of Tesla Stock?**"
      ]
    },
    {
      "cell_type": "code",
      "metadata": {
        "id": "w172J9nFnRE1"
      },
      "source": [
        "# Get the statistical data for the stocks volume dataframe\n",
        "# Average trading volume for Apple stock is 2.498238e+06\t\n",
        "# Average trading volume for S&P500 is 3.680732e+09\n",
        "\n",
        "# Why S&P500 is the most traded of all? Check out this article: \n",
        "# https://www.investopedia.com/articles/personal-finance/022216/put-10000-sp-500-etf-and-wait-20-years.asp\n",
        "\n",
        "# Text from the article above:\n",
        "# \"The S&P 500 index is a broad-based measure of large corporations traded on U.S. stock markets. Over long periods of time, \n",
        "# passively holding the index often produces better results than actively trading or picking single stocks.\n",
        "# Over long-time horizons, the index typically produces better returns than actively managed portfolios.\"\n",
        "\n",
        "stock_vol_df.describe()"
      ],
      "execution_count": null,
      "outputs": []
    },
    {
      "cell_type": "code",
      "metadata": {
        "id": "ZKZPnAQMdcUG"
      },
      "source": [
        "# Get the statistical data for the prices dataframe\n",
        "stock_price_df.describe()"
      ],
      "execution_count": null,
      "outputs": []
    },
    {
      "cell_type": "code",
      "metadata": {
        "id": "BP7n-T5Ld3Jj"
      },
      "source": [
        "# Average price for S&P500 = 2218.749554\n",
        "# Maximum Tesla Price = 1643.000000"
      ],
      "execution_count": null,
      "outputs": []
    },
    {
      "cell_type": "markdown",
      "metadata": {
        "id": "XMEDxZNrgW8Q"
      },
      "source": [
        "**MINI CHALLENGE #2 SOLUTION:**\n",
        "- **Plot the normalized stock prices and volume dataset.**"
      ]
    },
    {
      "cell_type": "code",
      "metadata": {
        "id": "sLVnHTaa2_2M"
      },
      "source": [
        "# Plot interactive chart for volume data\n",
        "# Notice that S&P500 trading is orders of magnitude compared to individual stocks\n",
        "interactive_plot(stock_vol_df, 'Stocks Volume')"
      ],
      "execution_count": null,
      "outputs": []
    },
    {
      "cell_type": "code",
      "metadata": {
        "id": "MFJqv0fIgUmt"
      },
      "source": [
        "# plot interactive chart for normalized stocks prices data\n",
        "interactive_plot(normalize(stock_price_df), 'Stock Prices')\n",
        "\n",
        "# Let's normalize the data and re-plot interactive chart for volume data\n",
        "interactive_plot(normalize(stock_vol_df), 'Normalized Volume')"
      ],
      "execution_count": null,
      "outputs": []
    },
    {
      "cell_type": "markdown",
      "metadata": {
        "id": "shhK922qkgYK"
      },
      "source": [
        "**MINI CHALLENGE #3 SOLUTION:**\n",
        "- **Test the pipeline with S&P500 and AMZN datasets instead of AAPL**"
      ]
    },
    {
      "cell_type": "code",
      "metadata": {
        "id": "ODvAnbO6kf3V"
      },
      "source": [
        "# Let's test the functions and get individual stock prices and volumes for S&P500\n",
        "price_volume_df = individual_stock(stock_price_df, stock_vol_df, 'sp500')\n",
        "price_volume_df\n",
        "\n",
        "# Let's test the functions and get individual stock prices and volumes for Amazon \n",
        "price_volume_df = individual_stock(stock_price_df, stock_vol_df, 'AMZN')\n",
        "price_volume_df"
      ],
      "execution_count": null,
      "outputs": []
    },
    {
      "cell_type": "markdown",
      "metadata": {
        "id": "2nf9eUW6-fmz"
      },
      "source": [
        "**MINI CHALLENGE #4 SOLUTION:**\n",
        "- **Experiment with various regularization value for alpha** \n",
        "- **What is the impact of increasing alpha?**\n",
        "- **Note: default value for alpha is = 1**"
      ]
    },
    {
      "cell_type": "code",
      "metadata": {
        "id": "MfqlLqNm-g8c"
      },
      "source": [
        "from sklearn.linear_model import Ridge\n",
        "# Note that Ridge regression performs linear least squares with L2 regularization.\n",
        "# Create and train the Ridge Linear Regression  Model\n",
        "regression_model = Ridge(alpha = 2)\n",
        "regression_model.fit(X_train, y_train)"
      ],
      "execution_count": null,
      "outputs": []
    },
    {
      "cell_type": "markdown",
      "metadata": {
        "id": "rYR4L_0tH3wO"
      },
      "source": [
        "**MINI CHALLENGE #5 SOLUTION:**\n",
        "- **Test the pipeline with at least 3 other stocks** \n",
        "- **Experiment with various LSTM model parameters (Ex: Use 150 units instead of 50), print out the model summary and retrain the model**\n",
        "\n"
      ]
    },
    {
      "cell_type": "code",
      "metadata": {
        "id": "WnVlMGwV-sys"
      },
      "source": [
        "# Create the model\n",
        "inputs = keras.layers.Input(shape=(X_train.shape[1], X_train.shape[2]))\n",
        "x = keras.layers.LSTM(150, return_sequences= True)(inputs)\n",
        "x = keras.layers.Dropout(0.3)(x)\n",
        "x = keras.layers.LSTM(150, return_sequences=True)(x)\n",
        "x = keras.layers.Dropout(0.3)(x)\n",
        "x = keras.layers.LSTM(150)(x)\n",
        "outputs = keras.layers.Dense(1, activation='linear')(x)\n",
        "\n",
        "model = keras.Model(inputs=inputs, outputs=outputs)\n",
        "model.compile(optimizer='adam', loss=\"mse\")\n",
        "model.summary()"
      ],
      "execution_count": null,
      "outputs": []
    }
  ]
}